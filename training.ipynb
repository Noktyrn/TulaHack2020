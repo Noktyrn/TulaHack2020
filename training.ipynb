{
 "cells": [
  {
   "cell_type": "code",
   "execution_count": null,
   "metadata": {
    "id": "qshSQookfHRA"
   },
   "outputs": [],
   "source": [
    "import numpy as np\n",
    "import matplotlib.pyplot as plt\n",
    "import tqdm\n",
    "import torch\n",
    "import torch.nn as nn\n",
    "from IPython.display import clear_output\n",
    "import matplotlib.pyplot as plt\n",
    "%matplotlib inline"
   ]
  },
  {
   "cell_type": "code",
   "execution_count": null,
   "metadata": {
    "id": "IanS3UM4fJ-a",
    "outputId": "9f81a638-84a5-4644-f829-0aaba496da1f",
    "colab": {
     "base_uri": "https://localhost:8080/"
    }
   },
   "outputs": [
    {
     "name": "stdout",
     "output_type": "stream",
     "text": [
      "Drive already mounted at /content/drive; to attempt to forcibly remount, call drive.mount(\"/content/drive\", force_remount=True).\n"
     ]
    }
   ],
   "source": [
    "from google.colab import drive\n",
    "drive.mount('/content/drive')"
   ]
  },
  {
   "cell_type": "code",
   "execution_count": null,
   "metadata": {
    "id": "y2XFIZTofHRJ"
   },
   "outputs": [],
   "source": [
    "import pandas as pd"
   ]
  },
  {
   "cell_type": "code",
   "execution_count": null,
   "metadata": {
    "id": "oJDh1PqNf-3l"
   },
   "outputs": [],
   "source": [
    ""
   ]
  },
  {
   "cell_type": "code",
   "execution_count": null,
   "metadata": {
    "id": "j467ZMP6fHRO"
   },
   "outputs": [],
   "source": [
    "data = pd.read_csv('/content/drive/My Drive/tulhack/icml_face_data.csv')"
   ]
  },
  {
   "cell_type": "code",
   "execution_count": null,
   "metadata": {
    "id": "4Qed1WgWfHRS"
   },
   "outputs": [],
   "source": [
    "t = [int(x) for x in data[' pixels'][0].split(' ')]"
   ]
  },
  {
   "cell_type": "code",
   "execution_count": null,
   "metadata": {
    "id": "vQiAjeGefHRX"
   },
   "outputs": [],
   "source": [
    "test_photo = np.array(t).reshape((48, 48))"
   ]
  },
  {
   "cell_type": "code",
   "execution_count": null,
   "metadata": {
    "id": "NJQEkib-fHRb",
    "outputId": "ce0ee994-4025-4303-efd5-dc05b836a2b7",
    "colab": {
     "base_uri": "https://localhost:8080/"
    }
   },
   "outputs": [
    {
     "data": {
      "text/plain": [
       "array([[ 70,  80,  82, ...,  52,  43,  41],\n",
       "       [ 65,  61,  58, ...,  56,  52,  44],\n",
       "       [ 50,  43,  54, ...,  49,  56,  47],\n",
       "       ...,\n",
       "       [ 91,  65,  42, ...,  72,  56,  43],\n",
       "       [ 77,  82,  79, ..., 105,  70,  46],\n",
       "       [ 77,  72,  84, ..., 106, 109,  82]])"
      ]
     },
     "execution_count": 8,
     "metadata": {
      "tags": []
     },
     "output_type": "execute_result"
    }
   ],
   "source": [
    "test_photo"
   ]
  },
  {
   "cell_type": "code",
   "execution_count": null,
   "metadata": {
    "id": "bg3nzIaLfHRf",
    "outputId": "3aefe1b6-9ad6-4b53-dc28-8d1894ca7af1",
    "colab": {
     "base_uri": "https://localhost:8080/",
     "height": 265.0
    }
   },
   "outputs": [
    {
     "data": {
      "image/png": "[encoded data removed]",
      "text/plain": [
       "<Figure size 432x288 with 1 Axes>"
      ]
     },
     "metadata": {
      "tags": [],
      "needs_background": "light"
     },
     "output_type": "display_data"
    }
   ],
   "source": [
    "plt.imshow(test_photo, cmap='gray', vmin=0, vmax=255)\n",
    "plt.show()"
   ]
  },
  {
   "cell_type": "code",
   "execution_count": null,
   "metadata": {
    "id": "4Ju2XRyvfHRj",
    "outputId": "9dc08163-ef27-430c-bbc2-71ccd8a2bb70",
    "colab": {
     "base_uri": "https://localhost:8080/"
    }
   },
   "outputs": [
    {
     "data": {
      "text/plain": [
       "0        70 80 82 72 58 58 60 63 54 58 60 48 89 115 121...\n",
       "1        151 150 147 155 148 133 111 140 170 174 182 15...\n",
       "2        231 212 156 164 174 138 161 173 182 200 106 38...\n",
       "3        24 32 36 30 32 23 19 20 30 41 21 22 32 34 21 1...\n",
       "4        4 0 0 0 0 0 0 0 0 0 0 0 3 15 23 28 48 50 58 84...\n",
       "                               ...                        \n",
       "35882    50 36 17 22 23 29 33 39 34 37 37 37 39 43 48 5...\n",
       "35883    178 174 172 173 181 188 191 194 196 199 200 20...\n",
       "35884    17 17 16 23 28 22 19 17 25 26 20 24 31 19 27 9...\n",
       "35885    30 28 28 29 31 30 42 68 79 81 77 67 67 71 63 6...\n",
       "35886    19 13 14 12 13 16 21 33 50 57 71 84 97 108 122...\n",
       "Name:  pixels, Length: 35887, dtype: object"
      ]
     },
     "execution_count": 10,
     "metadata": {
      "tags": []
     },
     "output_type": "execute_result"
    }
   ],
   "source": [
    "data[' pixels']"
   ]
  },
  {
   "cell_type": "code",
   "execution_count": null,
   "metadata": {
    "id": "qFlMyN3ifHRn",
    "outputId": "752e3edb-8f5a-4f14-c68d-1b54270aace5",
    "colab": {
     "base_uri": "https://localhost:8080/"
    }
   },
   "outputs": [
    {
     "name": "stderr",
     "output_type": "stream",
     "text": [
      "100%|██████████| 35887/35887 [00:20<00:00, 1726.36it/s]\n"
     ]
    }
   ],
   "source": [
    "format_input = []\n",
    "for i in tqdm.tqdm(data[' pixels']):\n",
    "    temp = np.array([int(x) for x in i.split(' ')]).reshape((48,48))\n",
    "    format_input.append(temp)"
   ]
  },
  {
   "cell_type": "code",
   "execution_count": null,
   "metadata": {
    "id": "FGvIY3RrfHRq"
   },
   "outputs": [],
   "source": [
    "format_input = np.array(format_input)\n",
    "format_input = np.append(format_input, format_input[:, :, ::-1], axis=0)"
   ]
  },
  {
   "cell_type": "code",
   "execution_count": null,
   "metadata": {
    "id": "I9a203BNfHRt"
   },
   "outputs": [],
   "source": [
    "np.save('photos.npy', format_input)"
   ]
  },
  {
   "cell_type": "code",
   "execution_count": null,
   "metadata": {
    "id": "8m61S8U-fHRv"
   },
   "outputs": [],
   "source": [
    "format_input = np.array(np.load('photos.npy'))"
   ]
  },
  {
   "cell_type": "code",
   "execution_count": null,
   "metadata": {
    "id": "JyJSoFGGfHRx"
   },
   "outputs": [],
   "source": [
    "labels = list(data['emotion'].append(data['emotion']))"
   ]
  },
  {
   "cell_type": "code",
   "execution_count": null,
   "metadata": {
    "id": "wHZPsFBhfHR1"
   },
   "outputs": [],
   "source": [
    "class CNN_emotions(torch.nn.Module):\n",
    "    def __init__(self):\n",
    "        super(CNN_emotions, self).__init__()\n",
    "        self.cnn1 = nn.Conv2d(in_channels=1, out_channels=8, kernel_size=3)\n",
    "        self.cnn2 = nn.Conv2d(in_channels=8, out_channels=16, kernel_size=3)\n",
    "        self.cnn3 = nn.Conv2d(in_channels=16, out_channels=32, kernel_size=3)\n",
    "        self.cnn4 = nn.Conv2d(in_channels=32, out_channels=64, kernel_size=3)\n",
    "        self.cnn5 = nn.Conv2d(in_channels=64, out_channels=128, kernel_size=3)\n",
    "        self.cnn6 = nn.Conv2d(in_channels=128, out_channels=256, kernel_size=3)\n",
    "        self.cnn7 = nn.Conv2d(in_channels=256, out_channels=256, kernel_size=3)\n",
    "        self.relu = nn.ReLU()\n",
    "        self.pool1 = nn.MaxPool2d(2, 1)\n",
    "        self.pool2 = nn.MaxPool2d(2, 2)\n",
    "        self.cnn1_bn = nn.BatchNorm2d(8)\n",
    "        self.cnn2_bn = nn.BatchNorm2d(16)\n",
    "        self.cnn3_bn = nn.BatchNorm2d(32)\n",
    "        self.cnn4_bn = nn.BatchNorm2d(64)\n",
    "        self.cnn5_bn = nn.BatchNorm2d(128)\n",
    "        self.cnn6_bn = nn.BatchNorm2d(256)\n",
    "        self.cnn7_bn = nn.BatchNorm2d(256)\n",
    "        self.fc1 = nn.Linear(1024, 512)\n",
    "        self.fc2 = nn.Linear(512, 256)\n",
    "        self.fc3 = nn.Linear(256, 7)\n",
    "        self.dropout = nn.Dropout(0.3)\n",
    "        self.fun = nn.Softmax()\n",
    "    def forward(self, x):\n",
    "        x = x.float().unsqueeze(1)\n",
    "        x = self.pool1(self.cnn1_bn(self.cnn1(x)))\n",
    "        x = self.relu(x)\n",
    "#         print(x.shape)\n",
    "        x = self.pool1(self.cnn2_bn(self.dropout(self.cnn2(x))))\n",
    "        x = self.relu(x)\n",
    "#         print(x.shape)\n",
    "        x = self.pool1(self.cnn3_bn(self.cnn3(x)))\n",
    "        x = self.relu(x)\n",
    "#         print(x.shape)\n",
    "        x = self.pool1(self.cnn4_bn(self.dropout(self.cnn4(x))))\n",
    "        x = self.relu(x)\n",
    "#         print(x.shape)\n",
    "        x = self.pool2(self.cnn5_bn(self.cnn5(x)))\n",
    "        x = self.relu(x)\n",
    "#         print(x.shape)\n",
    "        x = self.pool2(self.cnn6_bn(self.dropout(self.cnn6(x))))\n",
    "        x = self.relu(x)\n",
    "#         print(x.shape)\n",
    "        x = self.pool2(self.cnn7_bn(self.dropout(self.cnn7(x))))\n",
    "        x = self.relu(x)\n",
    "#         print(x.shape)\n",
    "\n",
    "        x = x.view(x.size(0), -1)\n",
    "#         print(x.shape)\n",
    "\n",
    "        x = self.relu(self.dropout(self.fc1(x)))\n",
    "        x = self.relu(self.dropout(self.fc2(x)))\n",
    "        x = self.fc3(x)\n",
    "        return (x)"
   ]
  },
  {
   "cell_type": "code",
   "execution_count": null,
   "metadata": {
    "id": "AQ1horYGfHR5"
   },
   "outputs": [],
   "source": [
    "def loss_function(pred, true):\n",
    "    loss = nn.CrossEntropyLoss()\n",
    "    return(loss(pred, true))"
   ]
  },
  {
   "cell_type": "code",
   "execution_count": null,
   "metadata": {
    "id": "FUDBLqCFfHR7"
   },
   "outputs": [],
   "source": [
    "device = torch.device('cuda:0' if torch.cuda.is_available() else 'cpu')\n",
    "model = CNN_emotions().to(device)\n",
    "\n"
   ]
  },
  {
   "cell_type": "code",
   "execution_count": null,
   "metadata": {
    "id": "G-10-6EZfHR-"
   },
   "outputs": [],
   "source": [
    "optimizer = torch.optim.Adam(model.parameters(), \n",
    "                       lr=1e-3)\n",
    "optimizer2 = torch.optim.Adam(model.parameters(), \n",
    "                       lr=1e-4)\n",
    "optimizer3 = torch.optim.Adam(model.parameters(), \n",
    "                       lr=1e-5)"
   ]
  },
  {
   "cell_type": "code",
   "execution_count": null,
   "metadata": {
    "id": "rI0G1P12fHR_"
   },
   "outputs": [],
   "source": [
    "format_input = torch.tensor(format_input)"
   ]
  },
  {
   "cell_type": "code",
   "execution_count": null,
   "metadata": {
    "id": "IgXjgR2bfHSB",
    "outputId": "44ff4665-d93a-4ae3-bc3e-3ef24ae721b6",
    "colab": {
     "base_uri": "https://localhost:8080/"
    }
   },
   "outputs": [
    {
     "data": {
      "text/plain": [
       "tensor(2.0556, device='cuda:0', grad_fn=<NllLossBackward>)"
      ]
     },
     "execution_count": 21,
     "metadata": {
      "tags": []
     },
     "output_type": "execute_result"
    }
   ],
   "source": [
    "loss_function(model.forward((format_input[:5]).to(device)), torch.tensor(labels[:5]).to(device))"
   ]
  },
  {
   "cell_type": "code",
   "execution_count": null,
   "metadata": {
    "id": "bxBfMZ26fHSD"
   },
   "outputs": [],
   "source": [
    ""
   ]
  },
  {
   "cell_type": "code",
   "execution_count": null,
   "metadata": {
    "id": "qKVQZf8AfHSF"
   },
   "outputs": [],
   "source": [
    "from sklearn.model_selection import train_test_split"
   ]
  },
  {
   "cell_type": "code",
   "execution_count": null,
   "metadata": {
    "id": "7IckL5qofHSH"
   },
   "outputs": [],
   "source": [
    "X_train, X_test, y_train, y_test = train_test_split(format_input, torch.tensor(labels), test_size=0.1, random_state=42)"
   ]
  },
  {
   "cell_type": "code",
   "execution_count": null,
   "metadata": {
    "id": "yOP_dp0GfHSI"
   },
   "outputs": [],
   "source": [
    "num_epochs = 150\n",
    "batch_size = 1000\n",
    "n_batches_per_epoch = 5"
   ]
  },
  {
   "cell_type": "code",
   "execution_count": null,
   "metadata": {
    "id": "jyfuUpjUfHSK",
    "outputId": "a35477df-3961-4951-8d7c-b85518257a16",
    "colab": {
     "base_uri": "https://localhost:8080/",
     "height": 372.0
    }
   },
   "outputs": [
    {
     "data": {
      "image/png": "[encoded data removed]",
      "text/plain": [
       "<Figure size 720x432 with 1 Axes>"
      ]
     },
     "metadata": {
      "tags": [],
      "needs_background": "light"
     },
     "output_type": "display_data"
    }
   ],
   "source": [
    "train_losses = []\n",
    "val_losses = []\n",
    "for i in range(num_epochs):\n",
    "    train_loss=0\n",
    "    val_loss = 0\n",
    "    model.train(True)\n",
    "    batch_indexes = np.random.permutation(len(X_train))\n",
    "    batch_indexes_2 = np.random.permutation(len(X_test))\n",
    "    for j in range(0, n_batches_per_epoch*batch_size, batch_size):\n",
    "        optimizer.zero_grad()\n",
    "        indexes = batch_indexes[j:j+batch_size]\n",
    "        x_batch = (X_train[indexes]).to(device)\n",
    "        y_batch = (y_train[indexes]).to(device)\n",
    "        pred = model.forward(x_batch)\n",
    "        loss_value = loss_function(pred, y_batch)\n",
    "        loss_value.backward()\n",
    "        if i<=100:\n",
    "          optimizer.step()\n",
    "        elif i>100 and i<=120:\n",
    "           optimizer2.step()\n",
    "        else:\n",
    "          optimizer3.step()\n",
    "        train_loss += loss_value.item()\n",
    "    train_loss /= n_batches_per_epoch\n",
    "    train_losses.append(train_loss)\n",
    "    model.train(False)\n",
    "    for j in range(0, n_batches_per_epoch*batch_size, batch_size):\n",
    "        indexes = batch_indexes_2[j:j+batch_size]\n",
    "        x_batch = (X_test[indexes]).to(device)\n",
    "        y_batch = (y_test[indexes]).to(device)\n",
    "        pred = model.forward(x_batch)\n",
    "        loss_value = loss_function(pred, y_batch)\n",
    "        val_loss += loss_value.item()\n",
    "        print(accuracy_score(pred.argmax(axis=-1).cpu().detach().numpy(), y_batch.cpu().detach().numpy()))\n",
    "    val_loss /= n_batches_per_epoch\n",
    "    val_losses.append(val_loss)\n",
    "    clear_output()\n",
    "    plt.figure(figsize = (10, 6))\n",
    "    plt.plot(train_losses, label = 'Train loss', color = 'blue')\n",
    "    plt.plot(val_losses, label = 'Val loss', color = 'orange')\n",
    "    plt.legend()\n",
    "    plt.ylabel('Loss')\n",
    "    plt.show()"
   ]
  },
  {
   "cell_type": "code",
   "execution_count": null,
   "metadata": {
    "id": "fZF95q18fHSM"
   },
   "outputs": [],
   "source": [
    ""
   ]
  },
  {
   "cell_type": "code",
   "execution_count": null,
   "metadata": {
    "id": "a8FdDaGSfHSN"
   },
   "outputs": [],
   "source": [
    "torch.save(model.state_dict(), '/content/drive/My Drive/tulhack/res_model.pth')"
   ]
  },
  {
   "cell_type": "code",
   "execution_count": null,
   "metadata": {
    "id": "0oBLLdhGfHSP"
   },
   "outputs": [],
   "source": [
    "# model = torch.load('/content/drive/My Drive/tulhack/res_model.pth')\n",
    "# model.eval()"
   ]
  },
  {
   "cell_type": "code",
   "execution_count": null,
   "metadata": {
    "id": "Ju-g27s4fHSQ"
   },
   "outputs": [],
   "source": [
    "em = CNN_emotions()"
   ]
  },
  {
   "cell_type": "code",
   "execution_count": null,
   "metadata": {
    "id": "KHba73jofHSS",
    "outputId": "2983e8c5-fa44-44ff-dc14-ee46de58fa26",
    "colab": {
     "base_uri": "https://localhost:8080/"
    }
   },
   "outputs": [
    {
     "data": {
      "text/plain": [
       "<All keys matched successfully>"
      ]
     },
     "execution_count": 29,
     "metadata": {
      "tags": []
     },
     "output_type": "execute_result"
    }
   ],
   "source": [
    "em.load_state_dict(torch.load('/content/drive/My Drive/tulhack/res_model.pth', map_location=torch.device('cpu')))"
   ]
  },
  {
   "cell_type": "code",
   "execution_count": null,
   "metadata": {
    "id": "aoLw0d9KfHST"
   },
   "outputs": [],
   "source": [
    ""
   ]
  },
  {
   "cell_type": "code",
   "execution_count": null,
   "metadata": {
    "id": "01YtQFnwnXY5",
    "outputId": "903b0ab4-4f33-44f4-a2eb-173ce2bffe68",
    "colab": {
     "base_uri": "https://localhost:8080/"
    }
   },
   "outputs": [
    {
     "data": {
      "text/plain": [
       "tensor([3, 2, 4, 6, 3, 4, 4, 4, 4, 3, 3, 0, 2, 4, 3, 0, 4, 3, 6, 2, 3, 6, 3, 4,\n",
       "        0, 5, 0, 4, 3, 3])"
      ]
     },
     "execution_count": 31,
     "metadata": {
      "tags": []
     },
     "output_type": "execute_result"
    }
   ],
   "source": [
    "em.forward(X_test[:30]).argmax(axis=-1)"
   ]
  },
  {
   "cell_type": "code",
   "execution_count": null,
   "metadata": {
    "id": "WA4ADq4urgUp",
    "outputId": "50714c94-5212-42e4-9a66-4af443cf93be",
    "colab": {
     "base_uri": "https://localhost:8080/"
    }
   },
   "outputs": [
    {
     "data": {
      "text/plain": [
       "tensor([3, 2, 4, 6, 3, 4, 3, 0, 4, 6, 6, 4, 2, 4, 3, 0, 2, 3, 6, 2, 3, 5, 3, 3,\n",
       "        0, 5, 6, 4, 2, 3])"
      ]
     },
     "execution_count": 32,
     "metadata": {
      "tags": []
     },
     "output_type": "execute_result"
    }
   ],
   "source": [
    "y_test[:30]"
   ]
  },
  {
   "cell_type": "code",
   "execution_count": null,
   "metadata": {
    "id": "wwRmOp8Gr1gT"
   },
   "outputs": [],
   "source": [
    "from sklearn.metrics import accuracy_score"
   ]
  },
  {
   "cell_type": "code",
   "execution_count": null,
   "metadata": {
    "id": "LY45DmTT8b8P",
    "outputId": "9e713c21-dba8-4d67-b9f0-3c0d6e34f40b",
    "colab": {
     "base_uri": "https://localhost:8080/"
    }
   },
   "outputs": [
    {
     "data": {
      "text/plain": [
       "0.72"
      ]
     },
     "execution_count": 33,
     "metadata": {
      "tags": []
     },
     "output_type": "execute_result"
    }
   ],
   "source": [
    "accuracy_score(em.forward(X_test[:100]).argmax(axis=-1), y_test[:100])"
   ]
  },
  {
   "cell_type": "markdown",
   "metadata": {
    "id": "3tMzVCIZ1nhh"
   },
   "source": [
    ""
   ]
  },
  {
   "cell_type": "code",
   "execution_count": null,
   "metadata": {
    "id": "EvlYHtX_vDAG"
   },
   "outputs": [],
   "source": [
    "accuracy_score(em.forward(X_test[:1000]).argmax(axis=-1), y_test[:1000])"
   ]
  },
  {
   "cell_type": "code",
   "execution_count": null,
   "metadata": {
    "id": "f52SIqAXvKbM"
   },
   "outputs": [],
   "source": [
    ""
   ]
  }
 ],
 "metadata": {
  "kernelspec": {
   "display_name": "Python 3",
   "language": "python",
   "name": "python3"
  },
  "language_info": {
   "codemirror_mode": {
    "name": "ipython",
    "version": 3
   },
   "file_extension": ".py",
   "mimetype": "text/x-python",
   "name": "python",
   "nbconvert_exporter": "python",
   "pygments_lexer": "ipython3",
   "version": "3.7.2"
  },
  "colab": {
   "name": "Untitled.ipynb",
   "provenance": [],
   "collapsed_sections": []
  },
  "accelerator": "GPU"
 },
 "nbformat": 4,
 "nbformat_minor": 0
}
